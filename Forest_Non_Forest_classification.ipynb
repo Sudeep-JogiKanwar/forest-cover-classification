{
 "cells": [
  {
   "cell_type": "code",
   "execution_count": 1,
   "id": "02ff02cb-a7d6-4275-b7f8-9e82e2fabd53",
   "metadata": {},
   "outputs": [],
   "source": [
    "import ee\n",
    "import geemap\n",
    "import pandas as pd\n",
    "import numpy as np\n",
    "from sklearn.model_selection import train_test_split\n",
    "from sklearn.ensemble import RandomForestClassifier\n",
    "from sklearn.metrics import accuracy_score, confusion_matrix, classification_report\n",
    "import seaborn as sns\n",
    "import matplotlib.pyplot as plt\n",
    "import os\n",
    "\n",
    "# Create directory for images\n",
    "os.makedirs('project_images', exist_ok=True)"
   ]
  },
  {
   "cell_type": "code",
   "execution_count": 2,
   "id": "de3f855d-5d10-4fd7-b6eb-9cac89c244f6",
   "metadata": {},
   "outputs": [
    {
     "data": {
      "text/html": [
       "\n",
       "            <style>\n",
       "                .geemap-dark {\n",
       "                    --jp-widgets-color: white;\n",
       "                    --jp-widgets-label-color: white;\n",
       "                    --jp-ui-font-color1: white;\n",
       "                    --jp-layout-color2: #454545;\n",
       "                    background-color: #383838;\n",
       "                }\n",
       "\n",
       "                .geemap-dark .jupyter-button {\n",
       "                    --jp-layout-color3: #383838;\n",
       "                }\n",
       "\n",
       "                .geemap-colab {\n",
       "                    background-color: var(--colab-primary-surface-color, white);\n",
       "                }\n",
       "\n",
       "                .geemap-colab .jupyter-button {\n",
       "                    --jp-layout-color3: var(--colab-primary-surface-color, white);\n",
       "                }\n",
       "            </style>\n",
       "            "
      ],
      "text/plain": [
       "<IPython.core.display.HTML object>"
      ]
     },
     "metadata": {},
     "output_type": "display_data"
    },
    {
     "name": "stdout",
     "output_type": "stream",
     "text": [
      "✅ Earth Engine initialized successfully\n"
     ]
    }
   ],
   "source": [
    "# Initialize Earth Engine\n",
    "ee.Authenticate()\n",
    "ee.Initialize(project=\"earthengine-first-project\")\n",
    "print(\"✅ Earth Engine initialized successfully\")"
   ]
  },
  {
   "cell_type": "markdown",
   "id": "c5dfc82f-218a-4dfc-9975-dbe1f1e6a6a6",
   "metadata": {},
   "source": [
    "## Data Loading and Study Area Setup"
   ]
  },
  {
   "cell_type": "code",
   "execution_count": 3,
   "id": "7dc37d00-373f-4fb9-b730-8709590acb3c",
   "metadata": {},
   "outputs": [
    {
     "data": {
      "text/html": [
       "\n",
       "            <style>\n",
       "                .geemap-dark {\n",
       "                    --jp-widgets-color: white;\n",
       "                    --jp-widgets-label-color: white;\n",
       "                    --jp-ui-font-color1: white;\n",
       "                    --jp-layout-color2: #454545;\n",
       "                    background-color: #383838;\n",
       "                }\n",
       "\n",
       "                .geemap-dark .jupyter-button {\n",
       "                    --jp-layout-color3: #383838;\n",
       "                }\n",
       "\n",
       "                .geemap-colab {\n",
       "                    background-color: var(--colab-primary-surface-color, white);\n",
       "                }\n",
       "\n",
       "                .geemap-colab .jupyter-button {\n",
       "                    --jp-layout-color3: var(--colab-primary-surface-color, white);\n",
       "                }\n",
       "            </style>\n",
       "            "
      ],
      "text/plain": [
       "<IPython.core.display.HTML object>"
      ]
     },
     "metadata": {},
     "output_type": "display_data"
    },
    {
     "name": "stdout",
     "output_type": "stream",
     "text": [
      "📊 Loaded 2106 training points\n",
      "Class distribution:\n",
      "class\n",
      "0    1381\n",
      "1     725\n",
      "Name: count, dtype: int64\n",
      "✅ Data loading completed\n"
     ]
    },
    {
     "name": "stderr",
     "output_type": "stream",
     "text": [
      "C:\\Users\\jkwrs\\miniconda3\\envs\\gee_env\\Lib\\site-packages\\pyogrio\\raw.py:723: RuntimeWarning: Creating a 256th field, but some DBF readers might only support 255 fields\n",
      "  ogr_write(\n",
      "C:\\Users\\jkwrs\\miniconda3\\envs\\gee_env\\Lib\\site-packages\\pyogrio\\raw.py:723: RuntimeWarning: Value 179226577.384 of field Shape_Area of feature 0 not successfully written. Possibly due to too larger number with respect to field width\n",
      "  ogr_write(\n"
     ]
    }
   ],
   "source": [
    "# Load training data from CSV\n",
    "def load_training_points(csv_file_path):\n",
    "    \"\"\"\n",
    "    Load CSV point data and convert to Earth Engine FeatureCollection\n",
    "    \"\"\"\n",
    "    df = pd.read_csv(csv_file_path)\n",
    "    \n",
    "    # Validate required columns\n",
    "    required_columns = ['latitude', 'longitude', 'class']\n",
    "    if not all(col in df.columns for col in required_columns):\n",
    "        raise ValueError(f\"CSV must contain columns: {required_columns}\")\n",
    "    \n",
    "    print(f\"📊 Loaded {len(df)} training points\")\n",
    "    print(f\"Class distribution:\\n{df['class'].value_counts()}\")\n",
    "    \n",
    "    # Convert to Earth Engine FeatureCollection\n",
    "    features = []\n",
    "    for _, row in df.iterrows():\n",
    "        point = ee.Geometry.Point([row['longitude'], row['latitude']])\n",
    "        feature = ee.Feature(point, {'class': row['class']})\n",
    "        features.append(feature)\n",
    "    \n",
    "    return ee.FeatureCollection(features)\n",
    "\n",
    "# Load training data and study area\n",
    "training_points = load_training_points('./ROI/training_data.csv')\n",
    "bbz = geemap.shp_to_ee(\"./ROI/banke_one_bz.shp\")\n",
    "\n",
    "print(\"✅ Data loading completed\")"
   ]
  },
  {
   "cell_type": "markdown",
   "id": "4d6eb0b0-e9fa-4360-88b8-1cc46a5158ce",
   "metadata": {},
   "source": [
    "## Satellite Imagery Processing"
   ]
  },
  {
   "cell_type": "code",
   "execution_count": 4,
   "id": "cc0bbc1f-8c69-40c5-93aa-d5ca44dabf18",
   "metadata": {},
   "outputs": [
    {
     "data": {
      "text/html": [
       "\n",
       "            <style>\n",
       "                .geemap-dark {\n",
       "                    --jp-widgets-color: white;\n",
       "                    --jp-widgets-label-color: white;\n",
       "                    --jp-ui-font-color1: white;\n",
       "                    --jp-layout-color2: #454545;\n",
       "                    background-color: #383838;\n",
       "                }\n",
       "\n",
       "                .geemap-dark .jupyter-button {\n",
       "                    --jp-layout-color3: #383838;\n",
       "                }\n",
       "\n",
       "                .geemap-colab {\n",
       "                    background-color: var(--colab-primary-surface-color, white);\n",
       "                }\n",
       "\n",
       "                .geemap-colab .jupyter-button {\n",
       "                    --jp-layout-color3: var(--colab-primary-surface-color, white);\n",
       "                }\n",
       "            </style>\n",
       "            "
      ],
      "text/plain": [
       "<IPython.core.display.HTML object>"
      ]
     },
     "metadata": {},
     "output_type": "display_data"
    },
    {
     "name": "stdout",
     "output_type": "stream",
     "text": [
      "✅ Satellite imagery processed\n"
     ]
    }
   ],
   "source": [
    "# Cloud masking function\n",
    "def mask_s2_clouds(image):\n",
    "    \"\"\"Masks clouds in Sentinel-2 imagery using QA band\"\"\"\n",
    "    qa = image.select('QA60')\n",
    "    cloud_bit_mask = 1 << 10\n",
    "    cirrus_bit_mask = 1 << 11\n",
    "    mask = (\n",
    "        qa.bitwiseAnd(cloud_bit_mask)\n",
    "        .eq(0)\n",
    "        .And(qa.bitwiseAnd(cirrus_bit_mask).eq(0))\n",
    "    )\n",
    "    return image.updateMask(mask).divide(10000)\n",
    "\n",
    "# Get Sentinel-2 imagery\n",
    "dataset = (\n",
    "    ee.ImageCollection('COPERNICUS/S2_SR_HARMONIZED')\n",
    "    .filterBounds(bbz)\n",
    "    .filterDate('2023-01-01', '2023-12-31')  # Using 2023 for actual data\n",
    "    .filter(ee.Filter.lt('CLOUDY_PIXEL_PERCENTAGE', 10))\n",
    "    .map(mask_s2_clouds)\n",
    "    .median()\n",
    "    .clip(bbz)\n",
    ")\n",
    "\n",
    "print(\"✅ Satellite imagery processed\")"
   ]
  },
  {
   "cell_type": "markdown",
   "id": "f44d9fb4-eedc-49e3-b427-b5c566aa1df7",
   "metadata": {},
   "source": [
    "## Feature Engineering"
   ]
  },
  {
   "cell_type": "code",
   "execution_count": 5,
   "id": "91b82566-b6ea-4bde-b5ba-8ff8356e3571",
   "metadata": {},
   "outputs": [
    {
     "data": {
      "text/html": [
       "\n",
       "            <style>\n",
       "                .geemap-dark {\n",
       "                    --jp-widgets-color: white;\n",
       "                    --jp-widgets-label-color: white;\n",
       "                    --jp-ui-font-color1: white;\n",
       "                    --jp-layout-color2: #454545;\n",
       "                    background-color: #383838;\n",
       "                }\n",
       "\n",
       "                .geemap-dark .jupyter-button {\n",
       "                    --jp-layout-color3: #383838;\n",
       "                }\n",
       "\n",
       "                .geemap-colab {\n",
       "                    background-color: var(--colab-primary-surface-color, white);\n",
       "                }\n",
       "\n",
       "                .geemap-colab .jupyter-button {\n",
       "                    --jp-layout-color3: var(--colab-primary-surface-color, white);\n",
       "                }\n",
       "            </style>\n",
       "            "
      ],
      "text/plain": [
       "<IPython.core.display.HTML object>"
      ]
     },
     "metadata": {},
     "output_type": "display_data"
    },
    {
     "name": "stdout",
     "output_type": "stream",
     "text": [
      "✅ Vegetation indices calculated\n"
     ]
    }
   ],
   "source": [
    "def calculate_vegetation_indices(image):\n",
    "    \"\"\"Calculate vegetation indices for enhanced feature set\"\"\"\n",
    "    # NDVI - Vegetation health\n",
    "    ndvi = image.normalizedDifference(['B8', 'B4']).rename('NDVI')\n",
    "    \n",
    "    # NDWI - Water content  \n",
    "    ndwi = image.normalizedDifference(['B3', 'B8']).rename('NDWI')\n",
    "    \n",
    "    # EVI - Enhanced vegetation index\n",
    "    evi = image.expression(\n",
    "        '2.5 * (NIR - RED) / (NIR + 6 * RED - 7.5 * BLUE + 1)',\n",
    "        {\n",
    "            'NIR': image.select('B8'),\n",
    "            'RED': image.select('B4'),\n",
    "            'BLUE': image.select('B2')\n",
    "        }\n",
    "    ).rename('EVI')\n",
    "    \n",
    "    # NDBI - Built-up areas\n",
    "    ndbi = image.normalizedDifference(['B11', 'B8']).rename('NDBI')\n",
    "    \n",
    "    image_with_indices = image.addBands([ndvi, ndwi, evi, ndbi])\n",
    "    print(\"✅ Vegetation indices calculated\")\n",
    "    return image_with_indices\n",
    "\n",
    "# Calculate indices\n",
    "image_with_indices = calculate_vegetation_indices(dataset)"
   ]
  },
  {
   "cell_type": "markdown",
   "id": "d8c0d1ac-aab6-4c65-91b4-b945cc9e2c34",
   "metadata": {},
   "source": [
    "## Training Data Preparation"
   ]
  },
  {
   "cell_type": "code",
   "execution_count": 6,
   "id": "d03cb803-b3ca-4386-a015-8381f819e6d1",
   "metadata": {},
   "outputs": [
    {
     "data": {
      "text/html": [
       "\n",
       "            <style>\n",
       "                .geemap-dark {\n",
       "                    --jp-widgets-color: white;\n",
       "                    --jp-widgets-label-color: white;\n",
       "                    --jp-ui-font-color1: white;\n",
       "                    --jp-layout-color2: #454545;\n",
       "                    background-color: #383838;\n",
       "                }\n",
       "\n",
       "                .geemap-dark .jupyter-button {\n",
       "                    --jp-layout-color3: #383838;\n",
       "                }\n",
       "\n",
       "                .geemap-colab {\n",
       "                    background-color: var(--colab-primary-surface-color, white);\n",
       "                }\n",
       "\n",
       "                .geemap-colab .jupyter-button {\n",
       "                    --jp-layout-color3: var(--colab-primary-surface-color, white);\n",
       "                }\n",
       "            </style>\n",
       "            "
      ],
      "text/plain": [
       "<IPython.core.display.HTML object>"
      ]
     },
     "metadata": {},
     "output_type": "display_data"
    },
    {
     "name": "stdout",
     "output_type": "stream",
     "text": [
      "🔧 Using 14 features for classification\n",
      "✅ Extracted 2084 training samples\n"
     ]
    }
   ],
   "source": [
    "def extract_training_data(image, training_points, scale=10):\n",
    "    \"\"\"Extract spectral values at training point locations\"\"\"\n",
    "    optical_bands = ['B2', 'B3', 'B4', 'B5', 'B6', 'B7', 'B8', 'B8A', 'B11', 'B12']\n",
    "    vegetation_indices = ['NDVI', 'NDWI', 'EVI', 'NDBI']\n",
    "    \n",
    "    available_bands = image.bandNames().getInfo()\n",
    "    feature_bands = [band for band in optical_bands + vegetation_indices if band in available_bands]\n",
    "    \n",
    "    print(f\"🔧 Using {len(feature_bands)} features for classification\")\n",
    "    \n",
    "    # Sample image at training points\n",
    "    training_samples = image.select(feature_bands).sampleRegions(\n",
    "        collection=training_points,\n",
    "        properties=['class'],\n",
    "        scale=scale,\n",
    "        tileScale=8,\n",
    "        geometries=False\n",
    "    )\n",
    "    \n",
    "    training_data = geemap.ee_to_df(training_samples)\n",
    "    training_data = training_data.dropna()\n",
    "    \n",
    "    print(f\"✅ Extracted {len(training_data)} training samples\")\n",
    "    return training_data, feature_bands\n",
    "\n",
    "# Extract training features\n",
    "training_data, feature_bands = extract_training_data(image_with_indices, training_points)"
   ]
  },
  {
   "cell_type": "markdown",
   "id": "07ce81ce-3a26-4198-b180-36d0cca28d35",
   "metadata": {},
   "source": [
    "## Machine Learning Model"
   ]
  },
  {
   "cell_type": "code",
   "execution_count": 7,
   "id": "f545bd6a-0e9b-4181-bc3c-5dd91bdf75ea",
   "metadata": {},
   "outputs": [
    {
     "data": {
      "text/html": [
       "\n",
       "            <style>\n",
       "                .geemap-dark {\n",
       "                    --jp-widgets-color: white;\n",
       "                    --jp-widgets-label-color: white;\n",
       "                    --jp-ui-font-color1: white;\n",
       "                    --jp-layout-color2: #454545;\n",
       "                    background-color: #383838;\n",
       "                }\n",
       "\n",
       "                .geemap-dark .jupyter-button {\n",
       "                    --jp-layout-color3: #383838;\n",
       "                }\n",
       "\n",
       "                .geemap-colab {\n",
       "                    background-color: var(--colab-primary-surface-color, white);\n",
       "                }\n",
       "\n",
       "                .geemap-colab .jupyter-button {\n",
       "                    --jp-layout-color3: var(--colab-primary-surface-color, white);\n",
       "                }\n",
       "            </style>\n",
       "            "
      ],
      "text/plain": [
       "<IPython.core.display.HTML object>"
      ]
     },
     "metadata": {},
     "output_type": "display_data"
    },
    {
     "name": "stdout",
     "output_type": "stream",
     "text": [
      "📚 Training samples: 1458, Testing samples: 626\n",
      "\n",
      "==================================================\n",
      "🤖 MODEL PERFORMANCE (WITH REGULARIZATION)\n",
      "==================================================\n",
      "🎯 Test Accuracy: 93.77%\n",
      "📊 Training Accuracy: 96.57%\n",
      "⚠️  Overfitting Gap: 2.80%\n",
      "✅ Overfitting: ACCEPTABLE\n",
      "📈 Cross-validation Accuracy: 95.06% (+/- 5.05%)\n",
      "\n",
      "📋 Detailed Metrics:\n",
      "              precision    recall  f1-score   support\n",
      "\n",
      "           0       0.96      0.94      0.95       415\n",
      "           1       0.89      0.93      0.91       211\n",
      "\n",
      "    accuracy                           0.94       626\n",
      "   macro avg       0.93      0.94      0.93       626\n",
      "weighted avg       0.94      0.94      0.94       626\n",
      "\n"
     ]
    },
    {
     "data": {
      "image/png": "[encoded data removed]",
      "text/plain": [
       "<Figure size 800x600 with 2 Axes>"
      ]
     },
     "metadata": {},
     "output_type": "display_data"
    },
    {
     "data": {
      "image/png": "[encoded data removed]",
      "text/plain": [
       "<Figure size 1000x600 with 1 Axes>"
      ]
     },
     "metadata": {},
     "output_type": "display_data"
    },
    {
     "name": "stdout",
     "output_type": "stream",
     "text": [
      "\n",
      "🔝 Top 5 Features:\n",
      "   feature  importance\n",
      "10    NDVI    0.604516\n",
      "11    NDWI    0.236100\n",
      "13    NDBI    0.043974\n",
      "2       B4    0.033163\n",
      "9      B12    0.022827\n"
     ]
    }
   ],
   "source": [
    "def train_random_forest(training_data, feature_bands, test_size=0.3):\n",
    "    \"\"\"Train and evaluate Random Forest classifier with regularization to prevent overfitting\"\"\"\n",
    "    X = training_data[feature_bands]\n",
    "    y = training_data['class']\n",
    "    \n",
    "    # Split data\n",
    "    X_train, X_test, y_train, y_test = train_test_split(\n",
    "        X, y, test_size=test_size, random_state=42, stratify=y\n",
    "    )\n",
    "    \n",
    "    print(f\"📚 Training samples: {len(X_train)}, Testing samples: {len(X_test)}\")\n",
    "    \n",
    "    # Train model with regularization parameters to reduce overfitting\n",
    "    rf_classifier = RandomForestClassifier(\n",
    "        n_estimators=150,           # More trees can help generalization\n",
    "        max_depth=12,               # Limit tree depth\n",
    "        min_samples_split=15,       # Require more samples to split\n",
    "        min_samples_leaf=8,         # Require more samples per leaf\n",
    "        max_features=0.7,           # Use subset of features for each tree\n",
    "        bootstrap=True,\n",
    "        random_state=42,\n",
    "        n_jobs=-1\n",
    "    )\n",
    "    \n",
    "    rf_classifier.fit(X_train, y_train)\n",
    "    \n",
    "    # Evaluate model\n",
    "    y_pred = rf_classifier.predict(X_test)\n",
    "    accuracy = accuracy_score(y_test, y_pred)\n",
    "    train_accuracy = rf_classifier.score(X_train, y_train)\n",
    "    \n",
    "    # Calculate overfitting gap\n",
    "    overfitting_gap = train_accuracy - accuracy\n",
    "    \n",
    "    print(\"\\n\" + \"=\"*50)\n",
    "    print(\"🤖 MODEL PERFORMANCE (WITH REGULARIZATION)\")\n",
    "    print(\"=\"*50)\n",
    "    print(f\"🎯 Test Accuracy: {accuracy:.2%}\")\n",
    "    print(f\"📊 Training Accuracy: {train_accuracy:.2%}\")\n",
    "    print(f\"⚠️  Overfitting Gap: {overfitting_gap:.2%}\")\n",
    "    \n",
    "    if overfitting_gap < 0.05:\n",
    "        print(\"✅ Overfitting: ACCEPTABLE\")\n",
    "    elif overfitting_gap < 0.1:\n",
    "        print(\"⚠️  Overfitting: MODERATE\")\n",
    "    else:\n",
    "        print(\"❌ Overfitting: HIGH\")\n",
    "    \n",
    "    # Cross-validation for better performance estimate\n",
    "    from sklearn.model_selection import cross_val_score\n",
    "    cv_scores = cross_val_score(rf_classifier, X, y, cv=5)\n",
    "    print(f\"📈 Cross-validation Accuracy: {cv_scores.mean():.2%} (+/- {cv_scores.std() * 2:.2%})\")\n",
    "    \n",
    "    # Detailed classification report\n",
    "    print(\"\\n📋 Detailed Metrics:\")\n",
    "    print(classification_report(y_test, y_pred))\n",
    "    \n",
    "    # Confusion Matrix\n",
    "    plt.figure(figsize=(8, 6))\n",
    "    cm = confusion_matrix(y_test, y_pred)\n",
    "    sns.heatmap(cm, annot=True, fmt='d', cmap='Blues')\n",
    "    plt.title('Confusion Matrix')\n",
    "    plt.ylabel('True Label')\n",
    "    plt.xlabel('Predicted Label')\n",
    "    plt.savefig('project_images/confusion_matrix.png', dpi=300, bbox_inches='tight')\n",
    "    plt.show()\n",
    "    \n",
    "    # Feature Importance\n",
    "    feature_importance = pd.DataFrame({\n",
    "        'feature': feature_bands,\n",
    "        'importance': rf_classifier.feature_importances_\n",
    "    }).sort_values('importance', ascending=False)\n",
    "    \n",
    "    plt.figure(figsize=(10, 6))\n",
    "    top_features = feature_importance.head(10)\n",
    "    plt.barh(top_features['feature'], top_features['importance'])\n",
    "    plt.xlabel('Feature Importance')\n",
    "    plt.title('Top 10 Most Important Features')\n",
    "    plt.gca().invert_yaxis()\n",
    "    plt.tight_layout()\n",
    "    plt.savefig('project_images/feature_importance.png', dpi=300, bbox_inches='tight')\n",
    "    plt.show()\n",
    "    \n",
    "    print(\"\\n🔝 Top 5 Features:\")\n",
    "    print(feature_importance.head())\n",
    "    \n",
    "    return rf_classifier, X_test, y_test, y_pred, cv_scores\n",
    "\n",
    "# Train the model with regularization\n",
    "rf_classifier, X_test, y_test, y_pred, cv_scores = train_random_forest(training_data, feature_bands)"
   ]
  },
  {
   "cell_type": "markdown",
   "id": "e95d928a-1f0f-40ed-a777-58b2b8e6e0d1",
   "metadata": {},
   "source": [
    "## Spatial Classification"
   ]
  },
  {
   "cell_type": "code",
   "execution_count": 8,
   "id": "c3529969-1ca4-4e79-82d8-1236664638b5",
   "metadata": {},
   "outputs": [
    {
     "data": {
      "text/html": [
       "\n",
       "            <style>\n",
       "                .geemap-dark {\n",
       "                    --jp-widgets-color: white;\n",
       "                    --jp-widgets-label-color: white;\n",
       "                    --jp-ui-font-color1: white;\n",
       "                    --jp-layout-color2: #454545;\n",
       "                    background-color: #383838;\n",
       "                }\n",
       "\n",
       "                .geemap-dark .jupyter-button {\n",
       "                    --jp-layout-color3: #383838;\n",
       "                }\n",
       "\n",
       "                .geemap-colab {\n",
       "                    background-color: var(--colab-primary-surface-color, white);\n",
       "                }\n",
       "\n",
       "                .geemap-colab .jupyter-button {\n",
       "                    --jp-layout-color3: var(--colab-primary-surface-color, white);\n",
       "                }\n",
       "            </style>\n",
       "            "
      ],
      "text/plain": [
       "<IPython.core.display.HTML object>"
      ]
     },
     "metadata": {},
     "output_type": "display_data"
    },
    {
     "name": "stdout",
     "output_type": "stream",
     "text": [
      "✅ Study area classification completed\n"
     ]
    }
   ],
   "source": [
    "def classify_study_area(image, training_points, feature_bands):\n",
    "    \"\"\"Classify entire study area using Earth Engine\"\"\"\n",
    "    training_samples = image.select(feature_bands).sampleRegions(\n",
    "        collection=training_points,\n",
    "        properties=['class'],\n",
    "        scale=10\n",
    "    )\n",
    "    \n",
    "    ee_classifier = ee.Classifier.smileRandomForest(100).train(\n",
    "        features=training_samples,\n",
    "        classProperty='class',\n",
    "        inputProperties=feature_bands\n",
    "    )\n",
    "    \n",
    "    classified_image = image.select(feature_bands).classify(ee_classifier)\n",
    "    print(\"✅ Study area classification completed\")\n",
    "    return classified_image\n",
    "\n",
    "# Classify the entire area\n",
    "classified_image = classify_study_area(image_with_indices, training_points, feature_bands)"
   ]
  },
  {
   "cell_type": "markdown",
   "id": "1cf4cf4b-9509-4d10-b1bb-b32c8b366c95",
   "metadata": {},
   "source": [
    "## Results Visualization and Export"
   ]
  },
  {
   "cell_type": "code",
   "execution_count": 9,
   "id": "562af561-fcf4-44eb-b739-e272bf56d214",
   "metadata": {},
   "outputs": [
    {
     "data": {
      "text/html": [
       "\n",
       "            <style>\n",
       "                .geemap-dark {\n",
       "                    --jp-widgets-color: white;\n",
       "                    --jp-widgets-label-color: white;\n",
       "                    --jp-ui-font-color1: white;\n",
       "                    --jp-layout-color2: #454545;\n",
       "                    background-color: #383838;\n",
       "                }\n",
       "\n",
       "                .geemap-dark .jupyter-button {\n",
       "                    --jp-layout-color3: #383838;\n",
       "                }\n",
       "\n",
       "                .geemap-colab {\n",
       "                    background-color: var(--colab-primary-surface-color, white);\n",
       "                }\n",
       "\n",
       "                .geemap-colab .jupyter-button {\n",
       "                    --jp-layout-color3: var(--colab-primary-surface-color, white);\n",
       "                }\n",
       "            </style>\n",
       "            "
      ],
      "text/plain": [
       "<IPython.core.display.HTML object>"
      ]
     },
     "metadata": {},
     "output_type": "display_data"
    },
    {
     "name": "stdout",
     "output_type": "stream",
     "text": [
      "🗺️ Creating study area map...\n",
      "🎨 Creating classification map...\n",
      "📍 Creating training data map...\n",
      "✅ All project images exported to 'project_images/' folder\n"
     ]
    }
   ],
   "source": [
    "def create_project_visualizations(classified_image, study_area, training_points, original_image):\n",
    "    \"\"\"Create and export visualizations for project\"\"\"\n",
    "    \n",
    "    # 1. Study Area Map\n",
    "    print(\"🗺️ Creating study area map...\")\n",
    "    study_map = geemap.Map()\n",
    "    study_map.addLayer(original_image, {'bands': ['B4', 'B3', 'B2'], 'min': 0, 'max': 0.3}, 'Satellite Image')\n",
    "    study_map.addLayer(study_area, {'color': 'red'}, 'Study Area')\n",
    "    study_map.centerObject(study_area, 9)\n",
    "    study_map.save('project_images/study_area.png')\n",
    "    \n",
    "    # 2. Classification Results Map\n",
    "    print(\"🎨 Creating classification map...\")\n",
    "    class_map = geemap.Map()\n",
    "    classification_vis = {'min': 0, 'max': 1, 'palette': ['red', 'green']}\n",
    "    class_map.addLayer(classified_image, classification_vis, 'Forest Classification')\n",
    "    class_map.addLayer(study_area, {'color': 'blue'}, 'Study Area')\n",
    "    class_map.add_legend(legend_dict={'Forest': 'green', 'Non-Forest': 'red'})\n",
    "    class_map.centerObject(study_area, 9)\n",
    "    class_map.save('project_images/classification_map.png')\n",
    "    \n",
    "    # 3. Training Data Map\n",
    "    print(\"📍 Creating training data map...\")\n",
    "    training_map = geemap.Map()\n",
    "    forest_points = training_points.filter(ee.Filter.eq('class', 1))\n",
    "    non_forest_points = training_points.filter(ee.Filter.eq('class', 0))\n",
    "    \n",
    "    training_map.addLayer(forest_points.style(color='green', pointSize=4), {}, 'Forest Samples')\n",
    "    training_map.addLayer(non_forest_points.style(color='red', pointSize=4), {}, 'Non-Forest Samples')\n",
    "    training_map.addLayer(study_area, {'color': 'blue'}, 'Study Area')\n",
    "    training_map.centerObject(study_area, 9)\n",
    "    training_map.save('project_images/training_data.png')\n",
    "    \n",
    "    print(\"✅ All project images exported to 'project_images/' folder\")\n",
    "    \n",
    "    return study_map, class_map, training_map\n",
    "\n",
    "# Generate portfolio images\n",
    "study_map, class_map, training_map = create_project_visualizations(\n",
    "    classified_image, bbz, training_points, dataset\n",
    ")"
   ]
  },
  {
   "cell_type": "markdown",
   "id": "ffca06de-5934-4251-bc20-3818912c14d8",
   "metadata": {},
   "source": [
    "## Area Statistics and Final Results"
   ]
  },
  {
   "cell_type": "code",
   "execution_count": 13,
   "id": "60c2ccd4-dc8c-4341-bf73-ff09298542a7",
   "metadata": {},
   "outputs": [
    {
     "data": {
      "text/html": [
       "\n",
       "            <style>\n",
       "                .geemap-dark {\n",
       "                    --jp-widgets-color: white;\n",
       "                    --jp-widgets-label-color: white;\n",
       "                    --jp-ui-font-color1: white;\n",
       "                    --jp-layout-color2: #454545;\n",
       "                    background-color: #383838;\n",
       "                }\n",
       "\n",
       "                .geemap-dark .jupyter-button {\n",
       "                    --jp-layout-color3: #383838;\n",
       "                }\n",
       "\n",
       "                .geemap-colab {\n",
       "                    background-color: var(--colab-primary-surface-color, white);\n",
       "                }\n",
       "\n",
       "                .geemap-colab .jupyter-button {\n",
       "                    --jp-layout-color3: var(--colab-primary-surface-color, white);\n",
       "                }\n",
       "            </style>\n",
       "            "
      ],
      "text/plain": [
       "<IPython.core.display.HTML object>"
      ]
     },
     "metadata": {},
     "output_type": "display_data"
    },
    {
     "name": "stdout",
     "output_type": "stream",
     "text": [
      "\n",
      "==================================================\n",
      "📐 AREA STATISTICS\n",
      "==================================================\n",
      "🌳 Non-Forest: 48.5 km² (24.6%)\n",
      "🌳 Forest: 148.5 km² (75.4%)\n",
      "📏 Total Study Area: 197.0 km²\n"
     ]
    },
    {
     "data": {
      "image/png": "[encoded data removed]",
      "text/plain": [
       "<Figure size 800x600 with 1 Axes>"
      ]
     },
     "metadata": {},
     "output_type": "display_data"
    }
   ],
   "source": [
    "def calculate_area_statistics(classified_image, study_area):\n",
    "    \"\"\"Calculate and display area statistics with correct percentage calculation\"\"\"\n",
    "    area_image = ee.Image.pixelArea().addBands(classified_image)\n",
    "    \n",
    "    area_stats = area_image.reduceRegion(\n",
    "        reducer=ee.Reducer.sum().group(groupField=1, groupName='class'),\n",
    "        geometry=study_area,\n",
    "        scale=10,\n",
    "        maxPixels=1e9\n",
    "    )\n",
    "    \n",
    "    stats = area_stats.getInfo()\n",
    "    \n",
    "    print(\"\\n\" + \"=\"*50)\n",
    "    print(\"📐 AREA STATISTICS\")\n",
    "    print(\"=\"*50)\n",
    "    \n",
    "    # First calculate total area and collect class areas\n",
    "    class_areas = {}\n",
    "    total_area = 0\n",
    "    \n",
    "    for group in stats['groups']:\n",
    "        class_val = group['class']\n",
    "        area_km2 = group['sum'] / 1e6\n",
    "        class_areas[class_val] = area_km2\n",
    "        total_area += area_km2\n",
    "    \n",
    "    # Now calculate percentages and display\n",
    "    for class_val, area_km2 in class_areas.items():\n",
    "        percentage = (area_km2 / total_area) * 100\n",
    "        \n",
    "        class_name = 'Forest' if class_val == 1 else 'Non-Forest'\n",
    "        print(f\"🌳 {class_name}: {area_km2:.1f} km² ({percentage:.1f}%)\")\n",
    "    \n",
    "    print(f\"📏 Total Study Area: {total_area:.1f} km²\")\n",
    "    \n",
    "    # Create area distribution pie chart\n",
    "    plt.figure(figsize=(8, 6))\n",
    "    areas = [class_areas.get(0, 0), class_areas.get(1, 0)]  # Non-forest, Forest\n",
    "    labels = ['Non-Forest', 'Forest']\n",
    "    colors = ['red', 'green']\n",
    "    \n",
    "    plt.pie(areas, labels=labels, colors=colors, autopct='%1.1f%%', startangle=90)\n",
    "    plt.title('Land Cover Distribution')\n",
    "    plt.savefig('project_images/area_distribution.png', dpi=300, bbox_inches='tight')\n",
    "    plt.show()\n",
    "    \n",
    "    return stats\n",
    "\n",
    "# Calculate final statistics with corrected percentage calculation\n",
    "area_stats = calculate_area_statistics(classified_image, bbz)"
   ]
  }
 ],
 "metadata": {
  "kernelspec": {
   "display_name": "Python (gee_env)",
   "language": "python",
   "name": "gee_env"
  },
  "language_info": {
   "codemirror_mode": {
    "name": "ipython",
    "version": 3
   },
   "file_extension": ".py",
   "mimetype": "text/x-python",
   "name": "python",
   "nbconvert_exporter": "python",
   "pygments_lexer": "ipython3",
   "version": "3.11.13"
  }
 },
 "nbformat": 4,
 "nbformat_minor": 5
}
